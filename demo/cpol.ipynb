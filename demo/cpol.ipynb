{
 "cells": [
  {
   "cell_type": "markdown",
   "metadata": {},
   "source": [
    "# Tracking Methods: CPOL"
   ]
  },
  {
   "cell_type": "markdown",
   "metadata": {},
   "source": [
    "This tutorial/demo illustrates how THUNER can be applied to [CPOL](https://www.openradar.io/research-radars/cpol), a C-band dual-polarisation research radar located at Gunn Point near Darwin, in Australia's northern Territory. \n"
   ]
  },
  {
   "cell_type": "markdown",
   "metadata": {},
   "source": [
    "## Setup"
   ]
  },
  {
   "cell_type": "code",
   "execution_count": null,
   "metadata": {},
   "outputs": [],
   "source": [
    "%load_ext autoreload\n",
    "%autoreload 2\n",
    "%matplotlib inline\n",
    "\n",
    "import shutil\n",
    "import glob\n",
    "import thuner.data as data\n",
    "import thuner.option as option\n",
    "import thuner.track.track as track\n",
    "import thuner.visualize as visualize\n",
    "import thuner.analyze as analyze\n",
    "import thuner.default as default\n",
    "import thuner.attribute as attribute\n",
    "import thuner.parallel as parallel\n",
    "import thuner.utils as utils\n",
    "import thuner.config as config"
   ]
  },
  {
   "cell_type": "code",
   "execution_count": null,
   "metadata": {},
   "outputs": [],
   "source": [
    "# Specify the local base directory for saving outputs\n",
    "base_local = config.get_outputs_directory()\n",
    "\n",
    "output_parent = base_local / \"runs/cpol/geographic\"\n",
    "options_directory = output_parent / \"options\"\n",
    "visualize_directory = output_parent / \"visualize\"\n",
    "\n",
    "# Remove the output parent directory if it already exists\n",
    "if output_parent.exists():\n",
    "    shutil.rmtree(output_parent)"
   ]
  },
  {
   "cell_type": "markdown",
   "metadata": {},
   "source": [
    "Run the cell below to get the demo data for this tutorial, if you haven't already."
   ]
  },
  {
   "cell_type": "code",
   "execution_count": null,
   "metadata": {},
   "outputs": [],
   "source": [
    "# Download the demo data\n",
    "remote_directory = \"s3://thuner-storage/THUNER_output/input_data/raw/cpol\"\n",
    "data.get_demo_data(base_local, remote_directory)\n",
    "remote_directory = \"s3://thuner-storage/THUNER_output/input_data/raw/\"\n",
    "remote_directory += \"era5_monthly_10S_129E_14S_133E\"\n",
    "data.get_demo_data(base_local, remote_directory)"
   ]
  },
  {
   "cell_type": "markdown",
   "metadata": {},
   "source": [
    "## Geographic Coordinates"
   ]
  },
  {
   "cell_type": "markdown",
   "metadata": {},
   "source": [
    "CPOL level 1b data is provided in cartesian coordinates. We can convert this data to \n",
    "geographic coordinates on the fly by specifying default grid options. We will also save\n",
    "this converted data to disk for use later."
   ]
  },
  {
   "cell_type": "code",
   "execution_count": null,
   "metadata": {},
   "outputs": [],
   "source": [
    "# Create the dataset options\n",
    "start = \"2005-11-13T14:00:00\"\n",
    "# Note the CPOL times are usually a few seconds off the 10 m interval, so add 30 seconds\n",
    "# to ensure we capture 19:00:00\n",
    "end = \"2005-11-13T19:00:30\" \n",
    "times_dict = {\"start\": start, \"end\": end}\n",
    "cpol_options = data.aura.CPOLOptions(**times_dict, converted_options={\"save\": True})\n",
    "# cpol_options = data.aura.CPOLOptions(**times_dict, converted_options={\"load\": True})\n",
    "era5_dict = {\"latitude_range\": [-14, -10], \"longitude_range\": [129, 133]}\n",
    "era5_pl_options = data.era5.ERA5Options(**times_dict, **era5_dict)\n",
    "era5_dict.update({\"data_format\": \"single-levels\"})\n",
    "era5_sl_options = data.era5.ERA5Options(**times_dict, **era5_dict)\n",
    "datasets=[cpol_options, era5_pl_options, era5_sl_options]\n",
    "data_options = option.data.DataOptions(datasets=datasets)\n",
    "data_options.to_yaml(options_directory / \"data.yml\")\n",
    "\n",
    "# Create the grid_options\n",
    "grid_options = option.grid.GridOptions()\n",
    "grid_options.to_yaml(options_directory / \"grid.yml\")\n",
    "\n",
    "# Create the track_options\n",
    "track_options = default.track(dataset_name=\"cpol\")\n",
    "# Modify the default track options to demonstrate the tracking of both convective \n",
    "# objects, and mesoscale convective systems, which are built out of convective, middle \n",
    "# and stratiform echo objects, within the same THUNER run. We will use a larger\n",
    "# minimum size for the convective objects, as too many very small objects confuses the\n",
    "# matching algorithm.\n",
    "core = attribute.core.default_tracked()\n",
    "attributes = option.attribute.Attributes(name=\"convective\", attribute_types=[core])\n",
    "track_options.levels[0].object_by_name(\"convective\").attributes = attributes\n",
    "tint_tracking = option.track.TintOptions(search_margin=5)\n",
    "track_options.levels[0].object_by_name(\"convective\").tracking = tint_tracking\n",
    "mask_options = option.track.MaskOptions(save=True)\n",
    "track_options.levels[0].object_by_name(\"convective\").mask_options = mask_options\n",
    "track_options.levels[0].object_by_name(\"convective\").detection.min_area = 64\n",
    "track_options.levels[0].object_by_name(\"convective\").detection.altitudes\n",
    "track_options.levels[0].object_by_name(\"convective\").revalidate()\n",
    "track_options.levels[0].revalidate()\n",
    "# We will also modify the mcs tracking options to save a record of the member object ids\n",
    "mcs_attributes = track_options.levels[1].object_by_name(\"mcs\").attributes\n",
    "mcs_group_attr = mcs_attributes.attribute_type_by_name(\"group\")\n",
    "membership = attribute.group.build_membership_attribute_group()\n",
    "mcs_group_attr.attributes.append(membership)\n",
    "mcs_group_attr.revalidate()\n",
    "track_options.to_yaml(options_directory / \"track.yml\")"
   ]
  },
  {
   "cell_type": "markdown",
   "metadata": {},
   "source": [
    "For this tutorial, we will generate figures during runtime to visualize how THUNER\n",
    "is matching both convective and mcs objects."
   ]
  },
  {
   "cell_type": "code",
   "execution_count": null,
   "metadata": {},
   "outputs": [],
   "source": [
    "# Create the visualize_options\n",
    "kwargs = {\"visualize_directory\": visualize_directory, \"objects\": [\"convective\", \"mcs\"]}\n",
    "visualize_options = default.runtime(**kwargs)\n",
    "visualize_options.to_yaml(options_directory / \"visualize.yml\")"
   ]
  },
  {
   "cell_type": "markdown",
   "metadata": {},
   "source": [
    "We can now perform our tracking run; note the run will be slow as we are generating runtime figures for both convective and MCS objects, and not using parallelization. To make the run go much faster, set `visualize_options = None` and use the the parallel tracking function."
   ]
  },
  {
   "cell_type": "code",
   "execution_count": null,
   "metadata": {},
   "outputs": [],
   "source": [
    "times = utils.generate_times(data_options.dataset_by_name(\"cpol\").filepaths)\n",
    "args = [times, data_options, grid_options, track_options, visualize_options]\n",
    "# parallel.track(*args, output_directory=output_parent)\n",
    "track.track(*args, output_directory=output_parent)"
   ]
  },
  {
   "cell_type": "markdown",
   "metadata": {},
   "source": [
    "Once completed, outputs are available in the `output_parent` directory. The visualization\n",
    "folder will contain figures like that below, which illustrate the matching process. \n",
    "Currently THUNER supports the TINT/MINT matching approach, but the goal is to eventually \n",
    "incorporate others. Note that if viewing online, the figures below can be viewed at original scale by right clicking, save image as, and opening locally, or by right clicking, open in new tab, etc.\n",
    "\n",
    "![Visualization of the TINT/MINT matching process.](https://raw.githubusercontent.com/THUNER-project/THUNER/refs/heads/main/gallery/cpol_convective_match_20051113.png)\n",
    "\n",
    "Definitions of terms appearing in the above figure are provided by \n",
    "[Raut et al. (2021)](https://doi.org/10.1175/JAMC-D-20-0119.1). Note the displacement \n",
    "vector for the central orange object is large due to the object changing shape suddenly. \n",
    "Similar jumps occur when objects split and merge, and for this reason, object center displacements are ill suited to define object velocities. Instead, object velocities are calculated by smoothing the corrected local flow vectors, as discussed by [Short et al. (2023)](https://doi.org/10.1175/MWR-D-22-0146.1). Animations of all the runtime matching figures for the convective objects are provided below.\n",
    "\n",
    "![Convective object matching.](https://raw.githubusercontent.com/THUNER-project/THUNER/refs/heads/main/gallery/cpol_convective_match_20051113.gif)\n",
    "\n",
    "We also provide the matching figures for the MCS objects. Note there is only one MCS \n",
    "object, which is comprised of multiple disjoint convective objects; the grouping method\n",
    "is described by [Short et al. (2023)](https://doi.org/10.1175/MWR-D-22-0146.1).\n",
    "\n",
    "![MCS object matching.](https://raw.githubusercontent.com/THUNER-project/THUNER/refs/heads/main/gallery/cpol_mcs_match_20051113.gif)"
   ]
  },
  {
   "cell_type": "markdown",
   "metadata": {},
   "source": [
    "Recall that when setting up the options above, we instructed THUNER to keep a record of the IDs of\n",
    "each member object (convective, middle and stratiform echoes) comprising each grouped \n",
    "mcs object. Note that only the mcs and convective objects are matched between times. "
   ]
  },
  {
   "cell_type": "code",
   "execution_count": null,
   "metadata": {},
   "outputs": [],
   "source": [
    "filepath = output_parent / \"attributes/mcs/group.csv\"\n",
    "columns = [\"convective_ids\", \"middle_ids\", \"anvil_ids\"]\n",
    "print(attribute.utils.read_attribute_csv(filepath, columns=columns).to_string())"
   ]
  },
  {
   "cell_type": "markdown",
   "metadata": {},
   "source": [
    "We can also perform analysis on, and visualization of, the MCS objects."
   ]
  },
  {
   "cell_type": "code",
   "execution_count": null,
   "metadata": {},
   "outputs": [],
   "source": [
    "analysis_options = analyze.mcs.AnalysisOptions()\n",
    "analysis_options.to_yaml(options_directory / \"analysis.yml\")\n",
    "analyze.mcs.process_velocities(output_parent)\n",
    "analyze.mcs.quality_control(output_parent, analysis_options)\n",
    "analyze.mcs.classify_all(output_parent, analysis_options)"
   ]
  },
  {
   "cell_type": "code",
   "execution_count": null,
   "metadata": {},
   "outputs": [],
   "source": [
    "figure_name = \"mcs_attributes\"\n",
    "kwargs = {\"style\": \"presentation\", \"attributes\": [\"id\", \"velocity\", \"offset\"]}\n",
    "figure_options = option.visualize.HorizontalAttributeOptions(name=figure_name, **kwargs)\n",
    "\n",
    "args = [output_parent, start, end, figure_options]\n",
    "args_dict = {\"parallel_figure\": True, \"by_date\": False, \"num_processes\": 4}\n",
    "visualize.attribute.mcs_series(*args, **args_dict)"
   ]
  },
  {
   "cell_type": "markdown",
   "metadata": {},
   "source": [
    "## Pre-Converted Data"
   ]
  },
  {
   "cell_type": "markdown",
   "metadata": {},
   "source": [
    "We can also perform THUNER tracking runs on general datasets, we just need to ensure \n",
    "they are pre-converted into a format recognized by THUNER, i.e. gridded data files readable by \n",
    "``xarray.open_dataset``, with variables named according to [CF-conventions](https://cfconventions.org/).\n",
    "To illustrate, we will use the converted CPOL files that were generated by the code in the\n",
    "previous section. We first modify the options used for the geographic coordinates above. Re-run\n",
    "the relevant cells above again if necessary. If you get a pydantic error, restart the notebook."
   ]
  },
  {
   "cell_type": "code",
   "execution_count": null,
   "metadata": {},
   "outputs": [],
   "source": [
    "output_parent = base_local / \"runs/cpol/pre_converted\"\n",
    "options_directory = output_parent / \"options\"\n",
    "options_directory.mkdir(parents=True, exist_ok=True)\n",
    "\n",
    "if output_parent.exists():\n",
    "    shutil.rmtree(output_parent)\n",
    "\n",
    "# Get the pre-converted filepaths\n",
    "base_filepath = base_local / \"input_data/converted/cpol/cpol_level_1b/v2020/gridded/\"\n",
    "base_filepath = base_filepath / \"grid_150km_2500m/2005/20051113\"\n",
    "filepaths = glob.glob(str(base_filepath / \"*.nc\"))\n",
    "filepaths = sorted(filepaths)\n",
    "\n",
    "# Create the data options. \n",
    "kwargs = {\"name\": \"cpol\", \"fields\": [\"reflectivity\"], \"filepaths\": filepaths}\n",
    "cpol_options = utils.BaseDatasetOptions(**times_dict, **kwargs)\n",
    "datasets=[cpol_options, era5_pl_options, era5_sl_options]\n",
    "data_options = option.data.DataOptions(datasets=datasets)\n",
    "data_options.to_yaml(options_directory / \"data.yml\")\n",
    "\n",
    "# Save other options\n",
    "grid_options.to_yaml(options_directory / \"grid.yml\")\n",
    "track_options.to_yaml(options_directory / \"track.yml\")\n",
    "\n",
    "# Switch off the runtime figures\n",
    "visualize_options = None"
   ]
  },
  {
   "cell_type": "code",
   "execution_count": null,
   "metadata": {},
   "outputs": [],
   "source": [
    "times = utils.generate_times(data_options.dataset_by_name(\"cpol\").filepaths)\n",
    "args = [times, data_options, grid_options, track_options, visualize_options]\n",
    "kwargs = {\"output_directory\": output_parent, \"dataset_name\": \"cpol\"}\n",
    "parallel.track(*args, **kwargs, debug_mode=True)"
   ]
  },
  {
   "cell_type": "code",
   "execution_count": null,
   "metadata": {},
   "outputs": [],
   "source": [
    "analysis_options = analyze.mcs.AnalysisOptions()\n",
    "analysis_options.to_yaml(options_directory / \"analysis.yml\")\n",
    "analyze.mcs.process_velocities(output_parent)\n",
    "analyze.mcs.quality_control(output_parent, analysis_options)\n",
    "analyze.mcs.classify_all(output_parent, analysis_options)"
   ]
  },
  {
   "cell_type": "code",
   "execution_count": null,
   "metadata": {},
   "outputs": [],
   "source": [
    "figure_name = \"mcs_attributes\"\n",
    "kwargs = {\"style\": \"presentation\", \"attributes\": [\"id\", \"velocity\", \"offset\"]}\n",
    "figure_options = option.visualize.HorizontalAttributeOptions(name=figure_name, **kwargs)\n",
    "\n",
    "args = [output_parent, start, end, figure_options]\n",
    "args_dict = {\"parallel_figure\": True, \"by_date\": False, \"num_processes\": 4}\n",
    "visualize.attribute.mcs_series(*args, **args_dict)"
   ]
  },
  {
   "cell_type": "markdown",
   "metadata": {},
   "source": [
    "Note we can achieve the same result in this case by modifying `converted_options={\"save\": True}` to `converted_options={\"load\": True}` in the [Geographic Coordinates](#geographic-coordinates) section,and rerunning the cells."
   ]
  },
  {
   "cell_type": "markdown",
   "metadata": {},
   "source": [
    "## Cartesian Coordinates"
   ]
  },
  {
   "cell_type": "markdown",
   "metadata": {},
   "source": [
    "Because the CPOL radar domains are small (150 km radii), it is reasonable to perform \n",
    "tracking in Cartesian coordinates. This should make the run faster as we are no longer \n",
    "performing regridding on the fly. We will also switch off the runtime figure generation."
   ]
  },
  {
   "cell_type": "code",
   "execution_count": null,
   "metadata": {},
   "outputs": [],
   "source": [
    "output_parent = base_local / \"runs/cpol/cartesian\"\n",
    "options_directory = output_parent / \"options\"\n",
    "options_directory.mkdir(parents=True, exist_ok=True)\n",
    "\n",
    "if output_parent.exists():\n",
    "    shutil.rmtree(output_parent)\n",
    "\n",
    "# Recreate the original cpol dataset options\n",
    "cpol_options = data.aura.CPOLOptions(**times_dict)\n",
    "datasets = [cpol_options, era5_pl_options, era5_sl_options]\n",
    "data_options = option.data.DataOptions(datasets=datasets)\n",
    "data_options.to_yaml(options_directory / \"data.yml\")\n",
    "\n",
    "# Create the grid_options\n",
    "grid_options = option.grid.GridOptions(name=\"cartesian\", regrid=False)\n",
    "grid_options.to_yaml(options_directory / \"grid.yml\")\n",
    "\n",
    "# Save the same track options from earlier\n",
    "track_options.to_yaml(options_directory / \"track.yml\")\n",
    "visualize_options = None"
   ]
  },
  {
   "cell_type": "code",
   "execution_count": null,
   "metadata": {},
   "outputs": [],
   "source": [
    "times = utils.generate_times(data_options.dataset_by_name(\"cpol\").filepaths)\n",
    "args = [times, data_options, grid_options, track_options, visualize_options]\n",
    "kwargs = {\"output_directory\": output_parent, \"dataset_name\": \"cpol\"}\n",
    "parallel.track(*args, **kwargs)"
   ]
  },
  {
   "cell_type": "code",
   "execution_count": null,
   "metadata": {},
   "outputs": [],
   "source": [
    "analysis_options = analyze.mcs.AnalysisOptions()\n",
    "analysis_options.to_yaml(options_directory / \"analysis.yml\")\n",
    "analyze.mcs.process_velocities(output_parent)\n",
    "analyze.mcs.quality_control(output_parent, analysis_options)\n",
    "analyze.mcs.classify_all(output_parent, analysis_options)"
   ]
  },
  {
   "cell_type": "code",
   "execution_count": null,
   "metadata": {},
   "outputs": [],
   "source": [
    "figure_name = \"mcs_attributes\"\n",
    "kwargs = {\"style\": \"presentation\", \"attributes\": [\"id\", \"velocity\", \"offset\"]}\n",
    "figure_options = option.visualize.HorizontalAttributeOptions(name=figure_name, **kwargs)\n",
    "\n",
    "args = [output_parent, start, end, figure_options]\n",
    "args_dict = {\"parallel_figure\": True, \"by_date\": False, \"num_processes\": 4}\n",
    "visualize.attribute.mcs_series(*args, **args_dict)"
   ]
  }
 ],
 "metadata": {
  "kernelspec": {
   "display_name": "THUNER",
   "language": "python",
   "name": "python3"
  },
  "language_info": {
   "codemirror_mode": {
    "name": "ipython",
    "version": 3
   },
   "file_extension": ".py",
   "mimetype": "text/x-python",
   "name": "python",
   "nbconvert_exporter": "python",
   "pygments_lexer": "ipython3",
   "version": "3.10.16"
  }
 },
 "nbformat": 4,
 "nbformat_minor": 2
}

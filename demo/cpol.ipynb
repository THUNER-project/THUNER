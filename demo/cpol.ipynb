{
 "cells": [
  {
   "cell_type": "code",
   "execution_count": null,
   "metadata": {},
   "outputs": [],
   "source": [
    "%load_ext autoreload\n",
    "%autoreload 2\n",
    "%matplotlib inline\n",
    "from pathlib import Path\n",
    "import shutil\n",
    "import numpy as np\n",
    "import thuner.data as data\n",
    "import thuner.track.track as track\n",
    "import thuner.option as option\n",
    "import thuner.visualize as visualize\n",
    "import thuner.analyze as analyze\n",
    "import thuner.option as option\n",
    "import thuner.default as default\n",
    "\n",
    "notebook_name = \"cpol_demo.ipynb\""
   ]
  },
  {
   "cell_type": "code",
   "execution_count": null,
   "metadata": {},
   "outputs": [],
   "source": [
    "# Parent directory for saving outputs\n",
    "base_local = Path.home() / \"THUNER_output\"\n",
    "start = \"2005-11-13T18:00:00\"\n",
    "end = \"2005-11-13T19:00:00\"\n",
    "\n",
    "output_parent = base_local / \"runs/cpol/geographic\"\n",
    "options_directory = output_parent / \"options\"\n",
    "visualize_directory = output_parent / \"visualize\"\n",
    "\n",
    "if output_parent.exists():\n",
    "    shutil.rmtree(output_parent)\n",
    "\n",
    "# Create the dataset options\n",
    "times_dict = {\"start\": start, \"end\": end}\n",
    "cpol_options = data.aura.CPOLOptions(**times_dict)\n",
    "era5_dict = {\"latitude_range\": [-14, -10], \"longitude_range\": [129, 133]}\n",
    "era5_pl_options = data.era5.ERA5Options(**times_dict, **era5_dict)\n",
    "era5_dict.update({\"data_format\": \"single-levels\"})\n",
    "era5_sl_options = data.era5.ERA5Options(**times_dict, **era5_dict)\n",
    "datasets=[cpol_options, era5_pl_options, era5_sl_options]\n",
    "data_options = option.data.DataOptions(datasets=datasets)\n",
    "data_options.to_yaml(options_directory / \"data.yml\")\n",
    "\n",
    "# Create the grid_options\n",
    "grid_options = option.grid.GridOptions()\n",
    "grid_options.to_yaml(options_directory / \"grid.yml\")\n",
    "\n",
    "# Create the track_options\n",
    "track_options = default.track(dataset=\"cpol\")\n",
    "track_options.to_yaml(options_directory / \"track.yml\")\n",
    "\n",
    "# Create the visualize_options\n",
    "visualize_options = default.runtime(visualize_directory=visualize_directory)\n",
    "visualize_options.to_yaml(options_directory / \"visualize.yml\")"
   ]
  },
  {
   "cell_type": "code",
   "execution_count": null,
   "metadata": {},
   "outputs": [],
   "source": [
    "times = data.utils.generate_times(data_options.dataset_by_name(\"cpol\"))\n",
    "args = [times, data_options, grid_options, track_options, visualize_options]\n",
    "# parallel.track(*args, output_directory=output_parent)\n",
    "track.track(*args, output_directory=output_parent)"
   ]
  },
  {
   "cell_type": "code",
   "execution_count": null,
   "metadata": {},
   "outputs": [],
   "source": [
    "output_parent = base_local / \"runs/cpol/cartesian\"\n",
    "options_directory = output_parent / \"options\"\n",
    "options_directory.mkdir(parents=True, exist_ok=True)\n",
    "\n",
    "if output_parent.exists():\n",
    "    shutil.rmtree(output_parent)\n",
    "\n",
    "grid_options = option.grid.GridOptions(name=\"cartesian\", regrid=False)\n",
    "grid_options.to_yaml(options_directory / \"grid.yml\")\n",
    "data_options.to_yaml(options_directory / \"data.yml\")\n",
    "track_options.to_yaml(options_directory / \"track.yml\")\n",
    "\n",
    "# visualize.option.save_display_options(visualize_options, options_directory)\n",
    "\n",
    "times = data.utils.generate_times(data_options.dataset_by_name(\"cpol\"))\n",
    "args = [times, data_options, grid_options, track_options, visualize_options]\n",
    "track.track(*args, output_directory=output_parent)"
   ]
  },
  {
   "cell_type": "code",
   "execution_count": null,
   "metadata": {},
   "outputs": [],
   "source": [
    "analysis_options = analyze.mcs.AnalysisOptions()\n",
    "analysis_options.to_yaml(options_directory / \"analysis.yml\")\n",
    "# utils.save_options(analysis_options, filename=\"analysis\", options_directory=output_directory / \"options\")\n",
    "analyze.mcs.process_velocities(output_parent)\n",
    "analyze.mcs.quality_control(output_parent, analysis_options)\n",
    "# analyze.mcs.classify_all(output_parent, analysis_options)"
   ]
  },
  {
   "cell_type": "code",
   "execution_count": null,
   "metadata": {},
   "outputs": [],
   "source": [
    "figure_name = \"mcs_attributes\"\n",
    "kwargs = {\"style\": \"presentation\", \"attributes\": [\"velocity\", \"offset\"]}\n",
    "figure_options = option.visualize.HorizontalAttributeOptions(name=figure_name, **kwargs)\n",
    "\n",
    "start_time = np.datetime64(start)\n",
    "end_time = np.datetime64(end)\n",
    "args = [output_parent, start_time, end_time, figure_options]\n",
    "args_dict = {\"parallel_figure\": True, \"by_date\": False, \"num_processes\": 4}\n",
    "visualize.attribute.mcs_series(*args, **args_dict)"
   ]
  },
  {
   "cell_type": "code",
   "execution_count": null,
   "metadata": {},
   "outputs": [],
   "source": []
  }
 ],
 "metadata": {
  "kernelspec": {
   "display_name": "THUNER",
   "language": "python",
   "name": "python3"
  },
  "language_info": {
   "codemirror_mode": {
    "name": "ipython",
    "version": 3
   },
   "file_extension": ".py",
   "mimetype": "text/x-python",
   "name": "python",
   "nbconvert_exporter": "python",
   "pygments_lexer": "ipython3",
   "version": "3.10.16"
  }
 },
 "nbformat": 4,
 "nbformat_minor": 2
}

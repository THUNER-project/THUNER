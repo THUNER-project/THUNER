{
 "cells": [
  {
   "cell_type": "markdown",
   "metadata": {},
   "source": [
    "# Tracking Methods: CPOL"
   ]
  },
  {
   "cell_type": "markdown",
   "metadata": {},
   "source": [
    "This tutorial/demo illustrates how THUNER can be applied to [CPOL](https://www.openradar.io/research-radars/cpol), a C-band dual-polarisation research radar located at Gunn Point near Darwin, in Australia's northern Territory. \n"
   ]
  },
  {
   "cell_type": "markdown",
   "metadata": {},
   "source": [
    "## Setup"
   ]
  },
  {
   "cell_type": "code",
   "execution_count": null,
   "metadata": {},
   "outputs": [],
   "source": [
    "%load_ext autoreload\n",
    "%autoreload 2\n",
    "%matplotlib inline\n",
    "\n",
    "from pathlib import Path\n",
    "import shutil\n",
    "import thuner.data as data\n",
    "import thuner.option as option\n",
    "import thuner.track.track as track\n",
    "import thuner.visualize as visualize\n",
    "import thuner.analyze as analyze\n",
    "import thuner.default as default\n",
    "import thuner.attribute as attribute\n",
    "import thuner.parallel as parallel"
   ]
  },
  {
   "cell_type": "code",
   "execution_count": null,
   "metadata": {},
   "outputs": [],
   "source": [
    "# Parent directory for saving outputs\n",
    "base_local = Path.home() / \"THUNER_output\"\n",
    "\n",
    "output_parent = base_local / \"runs/cpol/geographic\"\n",
    "options_directory = output_parent / \"options\"\n",
    "visualize_directory = output_parent / \"visualize\"\n",
    "\n",
    "# Remove the output parent directory if it already exists\n",
    "if output_parent.exists():\n",
    "    shutil.rmtree(output_parent)"
   ]
  },
  {
   "cell_type": "markdown",
   "metadata": {},
   "source": [
    "## Geographic Coordinates"
   ]
  },
  {
   "cell_type": "markdown",
   "metadata": {},
   "source": [
    "CPOL level 1b data is provided in cartesian coordinates. We can convert this data to \n",
    "geographic coordinates on the fly by specifying default grid options. We will also save\n",
    "this converted data to disk for use later."
   ]
  },
  {
   "cell_type": "code",
   "execution_count": null,
   "metadata": {},
   "outputs": [],
   "source": [
    "# Create the dataset options\n",
    "start = \"2005-11-13T14:00:00\"\n",
    "end = \"2005-11-13T19:00:00\"\n",
    "times_dict = {\"start\": start, \"end\": end}\n",
    "cpol_options = data.aura.CPOLOptions(**times_dict, converted_options={\"save\": True})\n",
    "era5_dict = {\"latitude_range\": [-14, -10], \"longitude_range\": [129, 133]}\n",
    "era5_pl_options = data.era5.ERA5Options(**times_dict, **era5_dict)\n",
    "era5_dict.update({\"data_format\": \"single-levels\"})\n",
    "era5_sl_options = data.era5.ERA5Options(**times_dict, **era5_dict)\n",
    "datasets=[cpol_options, era5_pl_options, era5_sl_options]\n",
    "data_options = option.data.DataOptions(datasets=datasets)\n",
    "data_options.to_yaml(options_directory / \"data.yml\")\n",
    "\n",
    "# Create the grid_options\n",
    "grid_options = option.grid.GridOptions()\n",
    "grid_options.to_yaml(options_directory / \"grid.yml\")\n",
    "\n",
    "# Create the track_options\n",
    "track_options = default.track(dataset_name=\"cpol\")\n",
    "# Modify the default track options to demonstrate the tracking of both convective \n",
    "# objects, and mesoscale convective systems, which are built out of convective, middle \n",
    "# and stratiform echo objects, within the same THUNER run. We will use a larger\n",
    "# minimum size for the convective objects, as too many very small objects confuses the\n",
    "# matching algorithm.\n",
    "core = attribute.core.default_tracked()\n",
    "attributes = option.attribute.Attributes(name=\"convective\", attribute_types=[core])\n",
    "track_options.levels[0].object_by_name(\"convective\").attributes = attributes\n",
    "tint_tracking = option.track.TintOptions(search_margin=5)\n",
    "track_options.levels[0].object_by_name(\"convective\").tracking = tint_tracking\n",
    "mask_options = option.track.MaskOptions(save=True)\n",
    "track_options.levels[0].object_by_name(\"convective\").mask_options = mask_options\n",
    "track_options.levels[0].object_by_name(\"convective\").detection.min_area = 64\n",
    "track_options.levels[0].object_by_name(\"convective\").detection.altitudes\n",
    "track_options.levels[0].object_by_name(\"convective\").revalidate()\n",
    "track_options.levels[0].revalidate()\n",
    "track_options.to_yaml(options_directory / \"track.yml\")\n",
    "\n",
    "# Create the visualize_options\n",
    "kwargs = {\"visualize_directory\": visualize_directory, \"objects\": [\"convective\", \"mcs\"]}\n",
    "visualize_options = default.runtime(**kwargs)\n",
    "visualize_options.to_yaml(options_directory / \"visualize.yml\")"
   ]
  },
  {
   "cell_type": "markdown",
   "metadata": {},
   "source": [
    "We can now perform our tracking run; note the run will be slow as we are generating runtime figures for both convective and MCS objects, and not using parallelization. To make the run go much faster, set `visualize_options = None` and use the the parallel tracking function."
   ]
  },
  {
   "cell_type": "code",
   "execution_count": null,
   "metadata": {},
   "outputs": [],
   "source": [
    "times = data.generate_times(data_options.dataset_by_name(\"cpol\"))\n",
    "args = [times, data_options, grid_options, track_options, visualize_options]\n",
    "# parallel.track(*args, output_directory=output_parent)\n",
    "track.track(*args, output_directory=output_parent)"
   ]
  },
  {
   "cell_type": "code",
   "execution_count": null,
   "metadata": {},
   "outputs": [],
   "source": [
    "analysis_options = analyze.mcs.AnalysisOptions()\n",
    "analysis_options.to_yaml(options_directory / \"analysis.yml\")\n",
    "analyze.mcs.process_velocities(output_parent)\n",
    "analyze.mcs.quality_control(output_parent, analysis_options)\n",
    "analyze.mcs.classify_all(output_parent, analysis_options)"
   ]
  },
  {
   "cell_type": "code",
   "execution_count": null,
   "metadata": {},
   "outputs": [],
   "source": [
    "figure_name = \"mcs_attributes\"\n",
    "kwargs = {\"style\": \"presentation\", \"attributes\": [\"velocity\", \"offset\"]}\n",
    "figure_options = option.visualize.HorizontalAttributeOptions(name=figure_name, **kwargs)\n",
    "\n",
    "args = [output_parent, start, end, figure_options]\n",
    "args_dict = {\"parallel_figure\": True, \"by_date\": False, \"num_processes\": 4}\n",
    "visualize.attribute.mcs_series(*args, **args_dict)"
   ]
  },
  {
   "cell_type": "markdown",
   "metadata": {},
   "source": [
    "## Cartesian Coordinates"
   ]
  },
  {
   "cell_type": "markdown",
   "metadata": {},
   "source": [
    "Because the CPOL radar domains are small (150 km radii), it is reasonable to perform \n",
    "tracking in Cartesian coordinates. This should make the run faster as we are no longer \n",
    "performing conversions on the fly. We will also switch off the runtime figure \n",
    "generation."
   ]
  },
  {
   "cell_type": "code",
   "execution_count": null,
   "metadata": {},
   "outputs": [],
   "source": [
    "output_parent = base_local / \"runs/cpol/cartesian\"\n",
    "options_directory = output_parent / \"options\"\n",
    "options_directory.mkdir(parents=True, exist_ok=True)\n",
    "\n",
    "if output_parent.exists():\n",
    "    shutil.rmtree(output_parent)\n",
    "\n",
    "grid_options = option.grid.GridOptions(name=\"cartesian\", regrid=False)\n",
    "grid_options.to_yaml(options_directory / \"grid.yml\")\n",
    "data_options.to_yaml(options_directory / \"data.yml\")\n",
    "track_options.to_yaml(options_directory / \"track.yml\")\n",
    "visualize_options = None\n",
    "\n",
    "times = data.generate_times(data_options.dataset_by_name(\"cpol\"))\n",
    "args = [times, data_options, grid_options, track_options, visualize_options]\n",
    "kwargs = {\"output_directory\": output_parent, \"dataset_name\": \"cpol\"}\n",
    "parallel.track(*args, **kwargs, debug_mode=True)"
   ]
  },
  {
   "cell_type": "code",
   "execution_count": null,
   "metadata": {},
   "outputs": [],
   "source": [
    "analysis_options = analyze.mcs.AnalysisOptions()\n",
    "analysis_options.to_yaml(options_directory / \"analysis.yml\")\n",
    "analyze.mcs.process_velocities(output_parent)\n",
    "analyze.mcs.quality_control(output_parent, analysis_options)\n",
    "analyze.mcs.classify_all(output_parent, analysis_options)"
   ]
  },
  {
   "cell_type": "code",
   "execution_count": null,
   "metadata": {},
   "outputs": [],
   "source": [
    "figure_name = \"mcs_attributes\"\n",
    "kwargs = {\"style\": \"presentation\", \"attributes\": [\"velocity\", \"offset\"]}\n",
    "figure_options = option.visualize.HorizontalAttributeOptions(name=figure_name, **kwargs)\n",
    "\n",
    "args = [output_parent, start, end, figure_options]\n",
    "args_dict = {\"parallel_figure\": True, \"by_date\": False, \"num_processes\": 4}\n",
    "visualize.attribute.mcs_series(*args, **args_dict)"
   ]
  }
 ],
 "metadata": {
  "kernelspec": {
   "display_name": "THUNER",
   "language": "python",
   "name": "python3"
  },
  "language_info": {
   "codemirror_mode": {
    "name": "ipython",
    "version": 3
   },
   "file_extension": ".py",
   "mimetype": "text/x-python",
   "name": "python",
   "nbconvert_exporter": "python",
   "pygments_lexer": "ipython3",
   "version": "3.10.16"
  }
 },
 "nbformat": 4,
 "nbformat_minor": 2
}

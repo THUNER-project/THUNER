{
 "cells": [
  {
   "cell_type": "code",
   "execution_count": null,
   "metadata": {},
   "outputs": [],
   "source": [
    "%load_ext autoreload\n",
    "%autoreload 2\n",
    "\n",
    "from pathlib import Path\n",
    "import shutil\n",
    "import numpy as np\n",
    "import thuner.data as data\n",
    "import thuner.option as option\n",
    "import thuner.analyze as analyze\n",
    "import thuner.parallel as parallel\n",
    "import thuner.visualize as visualize\n",
    "import thuner.track.track as track\n",
    "import thuner.option.default as default\n",
    "\n",
    "import thuner.log as log\n",
    "\n",
    "notebook_name = \"gridrad_demo.ipynb\""
   ]
  },
  {
   "cell_type": "code",
   "execution_count": null,
   "metadata": {},
   "outputs": [],
   "source": [
    "# Parent directory for saving outputs\n",
    "base_local = Path.home() / \"THUNER_output\"\n",
    "year=2010\n",
    "event_directories = data.gridrad.get_event_directories(year, base_local=base_local)\n",
    "event_directory = event_directories[0]\n",
    "start, end, event_start = data.gridrad.get_event_times(event_directory)\n",
    "start = \"2010-01-20T21:00:00\"\n",
    "end = \"2010-01-21T03:30:00\"\n",
    "\n",
    "output_parent = base_local / f\"runs/gridrad_demo\""
   ]
  },
  {
   "cell_type": "code",
   "execution_count": null,
   "metadata": {},
   "outputs": [],
   "source": [
    "if output_parent.exists():\n",
    "    shutil.rmtree(output_parent)\n",
    "options_directory = output_parent / \"options\"\n",
    "\n",
    "# Create and save the dataset options\n",
    "times_dict = {\"start\": start, \"end\": end}\n",
    "gridrad_dict = {\"event_start\": event_start}\n",
    "gridrad_options = data.gridrad.GridRadSevereOptions(**times_dict, **gridrad_dict)\n",
    "era5_dict = {\"latitude_range\": [27, 39], \"longitude_range\": [-102, -89]}\n",
    "era5_pl_options = data.era5.ERA5Options(**times_dict, **era5_dict)\n",
    "era5_dict.update({\"data_format\": \"single-levels\"})\n",
    "era5_sl_options = data.era5.ERA5Options(**times_dict, **era5_dict)\n",
    "datasets = [gridrad_options, era5_pl_options, era5_sl_options]\n",
    "data_options = option.data.DataOptions(datasets=datasets)\n",
    "data_options.to_yaml(options_directory / \"data.yml\")\n",
    "\n",
    "# Create and save the grid_options dictionary\n",
    "kwargs = {\"name\": \"geographic\", \"regrid\": False, \"altitude_spacing\": None}\n",
    "kwargs.update({\"geographic_spacing\": None})\n",
    "grid_options = option.grid.GridOptions(**kwargs)\n",
    "grid_options.to_yaml(options_directory / \"grid.yml\")\n",
    "\n",
    "# Create the track_options dictionary\n",
    "track_options = default.track(dataset=\"gridrad\")\n",
    "# Modify the default options for gridrad. Because grids so large we now use a distinct\n",
    "# global flow box for each object.\n",
    "track_options.levels[1].objects[0].tracking.global_flow_margin = 70\n",
    "track_options.levels[1].objects[0].tracking.unique_global_flow = False\n",
    "track_options.to_yaml(options_directory / \"track.yml\")\n",
    "\n",
    "visualize_options = None"
   ]
  },
  {
   "cell_type": "code",
   "execution_count": null,
   "metadata": {},
   "outputs": [],
   "source": [
    "times = data.utils.generate_times(data_options.dataset_by_name(\"gridrad\"))\n",
    "args = [times, data_options, grid_options, track_options, visualize_options]\n",
    "parallel.track(*args, output_directory=output_parent, dataset_name=\"gridrad\")\n",
    "# track.track(*args, output_directory=output_parent)"
   ]
  },
  {
   "cell_type": "code",
   "execution_count": null,
   "metadata": {},
   "outputs": [],
   "source": [
    "analysis_options = analyze.mcs.AnalysisOptions()\n",
    "analyze.mcs.process_velocities(output_parent, profile_dataset=\"era5_pl\")\n",
    "analyze.mcs.quality_control(output_parent, analysis_options)\n",
    "analyze.mcs.classify_all(output_parent, analysis_options)"
   ]
  },
  {
   "cell_type": "code",
   "execution_count": null,
   "metadata": {},
   "outputs": [],
   "source": [
    "figure_name = f\"mcs_gridrad_{event_start.replace('-', '')}\"\n",
    "kwargs = {\"style\": \"presentation\", \"attributes\": [\"velocity\", \"offset\"]}\n",
    "figure_options = option.visualize.HorizontalAttributeOptions(name=figure_name, **kwargs)\n",
    "\n",
    "start_time = np.datetime64(start)\n",
    "end_time = np.datetime64(end)\n",
    "args = [output_parent, start_time, end_time, figure_options]\n",
    "args_dict = {\"parallel_figure\": True, \"dt\": 7200, \"by_date\": False, \"num_processes\": 4}\n",
    "visualize.attribute.mcs_series(*args, **args_dict)"
   ]
  }
 ],
 "metadata": {
  "kernelspec": {
   "display_name": "THUNER",
   "language": "python",
   "name": "python3"
  },
  "language_info": {
   "codemirror_mode": {
    "name": "ipython",
    "version": 3
   },
   "file_extension": ".py",
   "mimetype": "text/x-python",
   "name": "python",
   "nbconvert_exporter": "python",
   "pygments_lexer": "ipython3",
   "version": "3.10.16"
  }
 },
 "nbformat": 4,
 "nbformat_minor": 4
}

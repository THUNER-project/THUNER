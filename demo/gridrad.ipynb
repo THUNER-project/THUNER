{
 "cells": [
  {
   "cell_type": "markdown",
   "metadata": {},
   "source": [
    "First import the requisite modules."
   ]
  },
  {
   "cell_type": "code",
   "execution_count": null,
   "metadata": {},
   "outputs": [],
   "source": [
    "\"\"\"GridRad Severe demo/test.\"\"\"\n",
    "\n",
    "%load_ext autoreload\n",
    "%autoreload 2\n",
    "\n",
    "from pathlib import Path\n",
    "import shutil\n",
    "import numpy as np\n",
    "import thuner.data as data\n",
    "import thuner.option as option\n",
    "import thuner.analyze as analyze\n",
    "import thuner.parallel as parallel\n",
    "import thuner.visualize as visualize\n",
    "import thuner.track as track\n",
    "import thuner.default as default\n",
    "\n",
    "notebook_name = \"gridrad_demo.ipynb\""
   ]
  },
  {
   "cell_type": "markdown",
   "metadata": {},
   "source": [
    "Next, specify the folders where THUNER outputs will be saved."
   ]
  },
  {
   "cell_type": "code",
   "execution_count": null,
   "metadata": {},
   "outputs": [],
   "source": [
    "# Parent directory for saving outputs\n",
    "base_local = Path.home() / \"THUNER_output\"\n",
    "output_parent = base_local / f\"runs/gridrad/gridrad_demo\"\n",
    "options_directory = output_parent / \"options\"\n",
    "visualize_directory = output_parent / \"visualize\"\n",
    "\n",
    "# Delete the options directory if it already exists\n",
    "if output_parent.exists():\n",
    "    shutil.rmtree(output_parent)"
   ]
  },
  {
   "cell_type": "markdown",
   "metadata": {},
   "source": [
    "Now specify the options for the THUNER run, beginning with the GridRad severe dataset \n",
    "options. Options classes in THUNER are built on the `pydantic` `BaseModel`, and are\n",
    "initialized by passing keyword, value pairs. Note that GridRad severe data is organized \n",
    "into \"events\". First load the example events from local disk. If you don't yet have the \n",
    "demo data, run thuner.data.get_demo_data()."
   ]
  },
  {
   "cell_type": "code",
   "execution_count": null,
   "metadata": {},
   "outputs": [],
   "source": [
    "event_directories = data.gridrad.get_event_directories(year=2010, base_local=base_local)\n",
    "event_directory = event_directories[0] # Take the first event from 2010 for the demo\n",
    "# Get the start and end times of the event, and the date of the event start\n",
    "start, end, event_start = data.gridrad.get_event_times(event_directory)\n",
    "start = \"2010-01-20T23:00\"\n",
    "end = \"2010-01-21T01:00\"\n",
    "times_dict = {\"start\": start, \"end\": end}\n",
    "gridrad_dict = {\"event_start\": event_start}\n",
    "gridrad_options = data.gridrad.GridRadSevereOptions(**times_dict, **gridrad_dict)"
   ]
  },
  {
   "cell_type": "markdown",
   "metadata": {},
   "source": [
    "All instances of options classes can be examined using the `model_dump` method, which \n",
    "converts the class instance to a dictionary. Note the `parent_local` field, which provides\n",
    "the parent directory on local disk containing the dataset. Analogously, `parent_remote` \n",
    "specifies the remote location of the data. Note also the `filepaths` field, which\n",
    "provides a list of the dataset's absolute filepaths. If `filepaths` is unset\n",
    "when the options instance is created, it will be populated automatically based on\n",
    "the other input arguments. Note the `use` field, which tells THUNER whether the dataset \n",
    "will be used to `track` or `tag` objects."
   ]
  },
  {
   "cell_type": "code",
   "execution_count": null,
   "metadata": {},
   "outputs": [],
   "source": [
    "gridrad_options.model_dump()"
   ]
  },
  {
   "cell_type": "markdown",
   "metadata": {},
   "source": [
    "We will use ERA5 single-level and pressure-level data for tagging the storms detected \n",
    "in the GridRad Severe dataset with other attributes, e.g. ambient winds."
   ]
  },
  {
   "cell_type": "code",
   "execution_count": null,
   "metadata": {},
   "outputs": [],
   "source": [
    "era5_dict = {\"latitude_range\": [27, 39], \"longitude_range\": [-102, -89]}\n",
    "era5_pl_options = data.era5.ERA5Options(**times_dict, **era5_dict)\n",
    "era5_dict.update({\"data_format\": \"single-levels\"})\n",
    "era5_sl_options = data.era5.ERA5Options(**times_dict, **era5_dict)"
   ]
  },
  {
   "cell_type": "markdown",
   "metadata": {},
   "source": [
    "All the dataset options are grouped into a single `DataOptions` object, which is passed to the THUNER tracking function. We also save these options as a YAML file."
   ]
  },
  {
   "cell_type": "code",
   "execution_count": null,
   "metadata": {},
   "outputs": [],
   "source": [
    "datasets = [gridrad_options, era5_pl_options, era5_sl_options]\n",
    "data_options = option.data.DataOptions(datasets=datasets)\n",
    "data_options.to_yaml(options_directory / \"data.yml\")"
   ]
  },
  {
   "cell_type": "markdown",
   "metadata": {},
   "source": [
    "Now create and save options describing the grid. If `regrid` is `False` and grid \n",
    "properties like `altitude_spacing` or `geographic_spacing` are set to `None`, THUNER\n",
    "will attempt to infer these from the tracking dataset."
   ]
  },
  {
   "cell_type": "code",
   "execution_count": null,
   "metadata": {},
   "outputs": [],
   "source": [
    "# Create and save the grid_options dictionary\n",
    "kwargs = {\"name\": \"geographic\", \"regrid\": False, \"altitude_spacing\": None}\n",
    "kwargs.update({\"geographic_spacing\": None})\n",
    "grid_options = option.grid.GridOptions(**kwargs)\n",
    "grid_options.to_yaml(options_directory / \"grid.yml\")"
   ]
  },
  {
   "cell_type": "markdown",
   "metadata": {},
   "source": [
    "Finally, we create options describing how the tracking should be performed. In \n",
    "multi-feature tracking, some objects, like mesoscale convective systems (MCSs), can be defined in terms of others, like convective and stratiform echoes. THUNER's approach is to first specify object options seperately for each object type, e.g. convective echoes, stratiform echoes, mesoscale convective systems, and so forth. Object options are specified using `pydantic` models which inherit from `BaseObjectOptions`. Related objects are then grouped together into `LevelOptions` models. The final `TrackOptions` model, which is passed to the tracking function, then contains a list of `LevelOptions` models. The idea is that \"lower level\" objects, can comprise the building blocks of \"higher level\" objects, with THUNER processing the former before the latter.\n",
    "\n",
    "In this tutorial, level 0 objects are the convective, middle and stratiform echo regions, \n",
    "and level 1 objects are mesoscale convective systems defined by grouping the level 0 objects. Because `TrackOptions` models can be complex to construct, a function for \n",
    "creating a default `TrackOptions` model matching the approach of [Short et al. (2023)](https://doi.org/10.1175/MWR-D-22-0146.1) is defined in the module `default.track`."
   ]
  },
  {
   "cell_type": "code",
   "execution_count": null,
   "metadata": {},
   "outputs": [],
   "source": [
    "# Create the track_options dictionary\n",
    "track_options = default.track(dataset=\"gridrad\")\n",
    "# Show the options for the level 0 objects\n",
    "print(f\"Level 0 objects list: {track_options.levels[0].object_names}\")\n",
    "# Show the options for the level 1 objects\n",
    "print(f\"Level 1 objects list: {track_options.levels[1].object_names}\")"
   ]
  },
  {
   "cell_type": "markdown",
   "metadata": {},
   "source": [
    "Note a core component of the options for each object is the ``atributes`` field, which describes how object attributes like position, velocity and area, are to be retrieved and stored. See the attributes tutorial for a detailed explanation of how THUNER handles attributes. To illustrate, below we print the options which describe how latitude and longitude coordinates are retrieved for MCS objects."
   ]
  },
  {
   "cell_type": "code",
   "execution_count": null,
   "metadata": {},
   "outputs": [],
   "source": [
    "# Show the options for mcs coordinate attributes\n",
    "mcs_attributes = track_options.object_lookup[\"mcs\"].attributes\n",
    "core_mcs_attributes = mcs_attributes.attribute_type_lookup[\"core\"]\n",
    "core_mcs_attributes.attribute_lookup[\"coordinates\"].model_dump()"
   ]
  },
  {
   "cell_type": "markdown",
   "metadata": {},
   "source": [
    "The default `TrackOptions` use \"local\" and \"global\" cross-correlations to measure object velocities, as described by [Raut et al. (2021)](https://doi.org/10.1175/JAMC-D-20-0119.1) and [Short et al. (2023)](https://doi.org/10.1175/MWR-D-22-0146.1). For GridRad severe, we modify this approach slightly so that \"global\" cross-correlations are calculated using boxes encompassing each object, with a margin of 70 km around the object."
   ]
  },
  {
   "cell_type": "code",
   "execution_count": null,
   "metadata": {},
   "outputs": [],
   "source": [
    "# Modify the default options for gridrad. Because grids so large we now use a distinct\n",
    "# global flow box for each object.\n",
    "track_options.levels[1].objects[0].tracking.unique_global_flow = False\n",
    "track_options.levels[1].objects[0].tracking.global_flow_margin = 70\n",
    "track_options.to_yaml(options_directory / \"track.yml\")"
   ]
  },
  {
   "cell_type": "markdown",
   "metadata": {},
   "source": [
    "Users can also specify visualization options for generating figures during a tracking run.\n",
    "Uncomment the line below to generate figures that visualize the matching algorithm - naturally \n",
    "this makes a tracking run much slower."
   ]
  },
  {
   "cell_type": "code",
   "execution_count": null,
   "metadata": {},
   "outputs": [],
   "source": [
    "visualize_options = None\n",
    "# visualize_options = default.runtime(visualize_directory=visualize_directory)\n",
    "# visualize_options.to_yaml(options_directory / \"visualize.yml\")"
   ]
  },
  {
   "cell_type": "markdown",
   "metadata": {},
   "source": [
    "Now that all the options for the tracking run have been specified, we can pass these to\n",
    "the tracking function. We also need to generate the times used for the tracking run."
   ]
  },
  {
   "cell_type": "code",
   "execution_count": null,
   "metadata": {},
   "outputs": [],
   "source": [
    "analyze.utils.read_options(output_parent / \"interval_0\")"
   ]
  },
  {
   "cell_type": "code",
   "execution_count": null,
   "metadata": {},
   "outputs": [],
   "source": [
    "times = data._utils.generate_times(data_options.dataset_by_name(\"gridrad\"))\n",
    "args = [times, data_options, grid_options, track_options, visualize_options]\n",
    "num_processes = 4 # If visualize_options is not None, num_processes must be 1\n",
    "parallel.track(*args, output_directory=output_parent, num_processes=num_processes)"
   ]
  },
  {
   "cell_type": "code",
   "execution_count": null,
   "metadata": {},
   "outputs": [],
   "source": [
    "analysis_options = analyze.mcs.AnalysisOptions()\n",
    "analyze.mcs.process_velocities(output_parent, profile_dataset=\"era5_pl\")\n",
    "analyze.mcs.quality_control(output_parent, analysis_options)\n",
    "# analyze.mcs.classify_all(output_parent, analysis_options)"
   ]
  },
  {
   "cell_type": "code",
   "execution_count": null,
   "metadata": {},
   "outputs": [],
   "source": [
    "figure_name = f\"mcs_gridrad_{event_start.replace('-', '')}\"\n",
    "kwargs = {\"name\": figure_name, \"style\": \"presentation\"}\n",
    "kwargs.update({\"attributes\": [\"velocity\", \"offset\"]})\n",
    "figure_options = option.visualize.HorizontalAttributeOptions(**kwargs)\n",
    "start_time = np.datetime64(start)\n",
    "end_time = np.datetime64(end)\n",
    "args = [output_parent, start_time, end_time, figure_options]\n",
    "args_dict = {\"parallel_figure\": True, \"dt\": 7200, \"by_date\": False, \"num_processes\": 4}\n",
    "visualize.attribute.mcs_series(*args, **args_dict)"
   ]
  }
 ],
 "metadata": {
  "kernelspec": {
   "display_name": "THUNER",
   "language": "python",
   "name": "python3"
  },
  "language_info": {
   "codemirror_mode": {
    "name": "ipython",
    "version": 3
   },
   "file_extension": ".py",
   "mimetype": "text/x-python",
   "name": "python",
   "nbconvert_exporter": "python",
   "pygments_lexer": "ipython3",
   "version": "3.10.16"
  }
 },
 "nbformat": 4,
 "nbformat_minor": 4
}

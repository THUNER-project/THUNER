{
 "cells": [
  {
   "cell_type": "code",
   "execution_count": null,
   "metadata": {},
   "outputs": [],
   "source": [
    "%load_ext autoreload\n",
    "%autoreload 2\n",
    "import time\n",
    "import multiprocessing\n",
    "from pathlib import Path\n",
    "import shutil\n",
    "import numpy as np\n",
    "import thuner.data as data\n",
    "import thuner.data.dispatch as dispatch\n",
    "import thuner.grid as grid\n",
    "import thuner.option as option\n",
    "import thuner.track as track\n",
    "import thuner.analyze as analyze\n",
    "import thuner.parallel as parallel\n",
    "import thuner.visualize as visualize\n",
    "import thuner.attribute as attribute\n",
    "import thuner.log as log\n",
    "\n",
    "notebook_name = \"gridrad_demo.ipynb\""
   ]
  },
  {
   "cell_type": "code",
   "execution_count": null,
   "metadata": {},
   "outputs": [],
   "source": [
    "# Parent directory for saving outputs\n",
    "base_local = Path.home() / \"THUNER_output\"\n",
    "year=2010\n",
    "event_directories = data.gridrad.get_event_directories(year, base_local=base_local)\n",
    "event_directory = event_directories[0]\n",
    "start, end, event_start = data.gridrad.get_event_times(event_directory)\n",
    "start = \"2010-01-20T22:00:00\"\n",
    "end = \"2010-01-21T02:00:00\"\n",
    "\n",
    "period = parallel.get_period(start, end)\n",
    "intervals = parallel.get_time_intervals(start, end, period=period)\n",
    "\n",
    "output_parent = base_local / f\"runs/gridrad_demo\"\n",
    "event_start"
   ]
  },
  {
   "cell_type": "code",
   "execution_count": null,
   "metadata": {},
   "outputs": [],
   "source": [
    "# if output_parent.exists():\n",
    "# shutil.rmtree(output_parent)\n",
    "options_directory = output_parent / \"options\"\n",
    "\n",
    "# Create and save the dataset options\n",
    "times_dict = {\"start\": start, \"end\": end}\n",
    "gridrad_dict = {\"event_start\": event_start}\n",
    "gridrad_options = data.gridrad.GridRadSevereOptions(**times_dict, **gridrad_dict)\n",
    "era5_dict = {\"latitude_range\": [27, 39], \"longitude_range\": [-102, -89]}\n",
    "era5_pl_options = data.era5.ERA5Options(**times_dict, **era5_dict)\n",
    "era5_dict.update({\"data_format\": \"single-levels\"})\n",
    "era5_sl_options = data.era5.ERA5Options(**times_dict, **era5_dict)\n",
    "data_options = option.data.DataOptions(\n",
    "    datasets=[gridrad_options, era5_pl_options, era5_sl_options]\n",
    ")\n",
    "data_options.to_yaml(options_directory / \"data.yml\")\n",
    "gridrad_options = data_options.dataset_by_name(\"gridrad\")\n",
    "\n",
    "# Create and save the grid_options dictionary \n",
    "grid_options = option.grid.GridOptions(\n",
    "    name=\"geographic\", regrid=False, altitude_spacing=None, geographic_spacing=None\n",
    ")\n",
    "grid_options.to_yaml(options_directory / \"grid.yml\")\n",
    "\n",
    "# Create the track_options dictionary\n",
    "track_options = option.default.track(dataset=\"gridrad\")\n",
    "# Modify the default options for gridrad. Because grids so large we now use a distinct\n",
    "# global flow box for each object.\n",
    "track_options.levels[1].objects[0].tracking.global_flow_margin = 70\n",
    "track_options.levels[1].objects[0].tracking.unique_global_flow = False\n",
    "# If testing, remove the profile and tag attributes\n",
    "# track_options.levels[1].objects[0].attributes[\"mcs\"].pop(\"profile\")\n",
    "# track_options.levels[1].objects[0].attributes[\"mcs\"].pop(\"tag\")\n",
    "track_options.to_yaml(options_directory / \"track.yml\")\n",
    "\n",
    "# Create the display_options dictionary\n",
    "# visualize_options = {\n",
    "#     obj: visualize.option.runtime_options(obj, save=True, style=\"presentation\")\n",
    "#     for obj in [\"mcs\"]\n",
    "# }\n",
    "visualize_options = None"
   ]
  },
  {
   "cell_type": "code",
   "execution_count": null,
   "metadata": {},
   "outputs": [],
   "source": [
    "times = data.utils.generate_times(data_options.dataset_by_name(\"gridrad\"))\n",
    "args = [times, data_options.model_copy(deep=True), grid_options.model_copy(deep=True)]\n",
    "args += [track_options.model_copy(deep=True), visualize_options]\n",
    "track.simultaneous_track(*args, output_directory=output_parent)"
   ]
  },
  {
   "cell_type": "code",
   "execution_count": null,
   "metadata": {},
   "outputs": [],
   "source": [
    "# num_processes = int(0.75 * os.cpu_count())\n",
    "# num_processes = os.cpu_count()\n",
    "num_processes = 4\n",
    "kwargs = {\"initializer\": parallel.initialize_process, \"processes\": num_processes}\n",
    "with log.logging_listener(), multiprocessing.get_context(\"spawn\").Pool(**kwargs) as pool:\n",
    "    results = []\n",
    "    for i, time_interval in enumerate(intervals):\n",
    "        time.sleep(1)\n",
    "        args = [i, time_interval, data_options.model_copy(deep=True), grid_options.copy()]\n",
    "        args += [track_options.model_copy(deep=True), visualize_options]\n",
    "        args += [output_parent, \"gridrad\"]\n",
    "        args = tuple(args)\n",
    "        results.append(pool.apply_async(parallel.track_interval, args))\n",
    "    pool.close()\n",
    "    pool.join()\n",
    "    parallel.check_results(results)"
   ]
  },
  {
   "cell_type": "code",
   "execution_count": null,
   "metadata": {},
   "outputs": [],
   "source": [
    "parallel.stitch_run(output_parent, intervals, cleanup=True)"
   ]
  },
  {
   "cell_type": "code",
   "execution_count": null,
   "metadata": {},
   "outputs": [],
   "source": [
    "analysis_options = analyze.mcs.AnalysisOptions()\n",
    "analyze.mcs.process_velocities(output_parent)\n",
    "analyze.mcs.quality_control(output_parent, analysis_options)\n",
    "analyze.mcs.classify_all(output_parent, analysis_options)"
   ]
  },
  {
   "cell_type": "code",
   "execution_count": null,
   "metadata": {},
   "outputs": [],
   "source": [
    "figure_name = f\"mcs_gridrad_{event_start.replace('-', '')}\"\n",
    "figure_options = visualize.option.horizontal_attribute_options(\n",
    "    figure_name, style=\"presentation\", attributes=[\"velocity\", \"offset\"]\n",
    ")\n",
    "start_time = np.datetime64(start)\n",
    "end_time = np.datetime64(end)\n",
    "args = [output_parent, start_time, end_time, figure_options]\n",
    "args_dict = {\"parallel_figure\": True, \"dt\": 7200, \"by_date\": False, \"num_processes\": 4}\n",
    "visualize.attribute.mcs_series(*args, **args_dict)"
   ]
  }
 ],
 "metadata": {
  "kernelspec": {
   "display_name": "THUNER",
   "language": "python",
   "name": "python3"
  },
  "language_info": {
   "codemirror_mode": {
    "name": "ipython",
    "version": 3
   },
   "file_extension": ".py",
   "mimetype": "text/x-python",
   "name": "python",
   "nbconvert_exporter": "python",
   "pygments_lexer": "ipython3",
   "version": "3.10.16"
  }
 },
 "nbformat": 4,
 "nbformat_minor": 4
}

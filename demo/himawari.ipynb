{
 "cells": [
  {
   "cell_type": "markdown",
   "id": "0",
   "metadata": {},
   "source": [
    "# Himawari"
   ]
  },
  {
   "cell_type": "markdown",
   "id": "1",
   "metadata": {},
   "source": [
    "This tutorial/demo provides a quick and dirty example of how THUNER can be applied to [Himawari](https://geonetwork.nci.org.au/geonetwork/srv/eng/catalog.search#/metadata/f8433_0020_1861_5916) observations. By the end of this tutorial you should be able to generate figures like that below. \n",
    "\n",
    "![Animation depicting anvils defined from brightness temperature.](https://raw.githubusercontent.com/THUNER-project/THUNER/refs/heads/main/gallery/himawari_anvil_20230101.gif)"
   ]
  },
  {
   "cell_type": "markdown",
   "id": "2",
   "metadata": {},
   "source": [
    "## Setup"
   ]
  },
  {
   "cell_type": "code",
   "execution_count": null,
   "id": "3",
   "metadata": {},
   "outputs": [],
   "source": [
    "%load_ext autoreload\n",
    "%autoreload 2\n",
    "\n",
    "%matplotlib inline\n",
    "\n",
    "import shutil\n",
    "import numpy as np\n",
    "import thuner.data as data\n",
    "import thuner.option as option\n",
    "import thuner.track.track as track\n",
    "import thuner.visualize as visualize\n",
    "import thuner.analyze as analyze\n",
    "import thuner.default as default\n",
    "import thuner.parallel as parallel\n",
    "import thuner.utils as utils\n",
    "import thuner.config as config"
   ]
  },
  {
   "cell_type": "code",
   "execution_count": null,
   "id": "4",
   "metadata": {},
   "outputs": [],
   "source": [
    "# Set a flag for whether or not to remove existing output directories\n",
    "remove_existing_outputs = False\n",
    "\n",
    "# Specify the local base directory for saving outputs\n",
    "base_local = config.get_outputs_directory()\n",
    "\n",
    "output_parent = base_local / \"runs/himawari/\"\n",
    "options_directory = output_parent / \"options\"\n",
    "visualize_directory = output_parent / \"visualize\"\n",
    "\n",
    "# Remove the output parent directory if it already exists\n",
    "if output_parent.exists() and remove_existing_outputs:\n",
    "    shutil.rmtree(output_parent)"
   ]
  },
  {
   "cell_type": "markdown",
   "id": "5",
   "metadata": {},
   "source": [
    "Run the cell below to get the demo data for this tutorial, if you haven't already."
   ]
  },
  {
   "cell_type": "code",
   "execution_count": null,
   "id": "6",
   "metadata": {},
   "outputs": [],
   "source": [
    "# Download the demo data\n",
    "remote_directory = \"s3://thuner-storage/THUNER_output/input_data/raw/satellite-products\"\n",
    "data.get_demo_data(base_local, remote_directory)"
   ]
  },
  {
   "cell_type": "markdown",
   "id": "7",
   "metadata": {},
   "source": [
    "## Options"
   ]
  },
  {
   "cell_type": "code",
   "execution_count": null,
   "id": "8",
   "metadata": {},
   "outputs": [],
   "source": [
    "# Create the dataset options\n",
    "start = \"2023-01-01T00:00:00\"\n",
    "# Note the CPOL times are usually a few seconds off the 10 m interval, so add 30 seconds\n",
    "# to ensure we capture 19:00:00\n",
    "end = \"2023-01-02T00:00:00\"\n",
    "times_dict = {\"start\": start, \"end\": end}\n",
    "himawari_options = data.himawari.HimawariOptions(**times_dict)\n",
    "data_options = option.data.DataOptions(datasets=[himawari_options])\n",
    "data_options.to_yaml(options_directory / \"data.yml\")\n",
    "\n",
    "# Setup a grid over New Guinea. \n",
    "# Note the demo data contains the full disk, so vary the lat/lon as you like!\n",
    "spacing = [0.025, 0.025]\n",
    "latitude = np.arange(-10, 0 + spacing[0], spacing[0])\n",
    "longitude = np.arange(130, 150 + spacing[1], spacing[1])\n",
    "altitude = None\n",
    "grid_options = option.grid.GridOptions(\n",
    "    name=\"geographic\", latitude=latitude, longitude=longitude, altitude=altitude\n",
    ")\n",
    "grid_options.to_yaml(options_directory / \"grid.yml\")\n",
    "\n",
    "# Create the track_options\n",
    "track_options = default.satellite_track(dataset_name=\"himawari\")\n",
    "track_options.to_yaml(options_directory / \"track.yml\")"
   ]
  },
  {
   "cell_type": "markdown",
   "id": "9",
   "metadata": {},
   "source": [
    "## Track"
   ]
  },
  {
   "cell_type": "code",
   "execution_count": null,
   "id": "10",
   "metadata": {},
   "outputs": [],
   "source": [
    "times = utils.generate_times(data_options.dataset_by_name(\"himawari\").filepaths)\n",
    "args = [times, data_options, grid_options, track_options]\n",
    "parallel.track(*args, output_directory=output_parent, dataset_name=\"himawari\", num_processes=2)\n",
    "# track.track(*args, output_directory=output_parent)"
   ]
  },
  {
   "cell_type": "markdown",
   "id": "11",
   "metadata": {},
   "source": [
    "## Analyze/Visualize"
   ]
  },
  {
   "cell_type": "code",
   "execution_count": null,
   "id": "12",
   "metadata": {},
   "outputs": [],
   "source": [
    "analysis_options = analyze.mcs.AnalysisOptions()\n",
    "analysis_options.to_yaml(options_directory / \"analysis.yml\")\n",
    "core_filepath = output_parent / \"attributes/anvil/core.csv\"\n",
    "analyze.utils.smooth_flow_velocities(core_filepath, output_parent)\n",
    "analyze.utils.quality_control(\"anvil\", output_parent, analysis_options)"
   ]
  },
  {
   "cell_type": "code",
   "execution_count": null,
   "id": "13",
   "metadata": {},
   "outputs": [],
   "source": [
    "style = \"presentation\"\n",
    "attribute_handlers = default.detected_attribute_handlers(output_parent, style)\n",
    "kwargs = {\"name\": \"himawari_anvil\", \"object_name\": \"anvil\", \"style\": style}\n",
    "kwargs.update({\"attribute_handlers\": attribute_handlers})\n",
    "figure_options = option.visualize.HorizontalAttributeOptions(**kwargs)\n",
    "args = [output_parent, start, end, figure_options, \"himawari\"]\n",
    "args_dict = {\"parallel_figure\": True, \"by_date\": False, \"num_processes\": 4}\n",
    "visualize.attribute.series(*args, **args_dict)"
   ]
  }
 ],
 "metadata": {
  "kernelspec": {
   "display_name": "THUNER",
   "language": "python",
   "name": "python3"
  },
  "language_info": {
   "codemirror_mode": {
    "name": "ipython",
    "version": 3
   },
   "file_extension": ".py",
   "mimetype": "text/x-python",
   "name": "python",
   "nbconvert_exporter": "python",
   "pygments_lexer": "ipython3",
   "version": "3.10.16"
  }
 },
 "nbformat": 4,
 "nbformat_minor": 5
}

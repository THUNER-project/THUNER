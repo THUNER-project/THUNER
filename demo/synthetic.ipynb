{
 "cells": [
  {
   "cell_type": "markdown",
   "metadata": {},
   "source": [
    "# Testing: Synthetic Data"
   ]
  },
  {
   "cell_type": "markdown",
   "metadata": {},
   "source": [
    "For more detailed explanations of THUNER's usage and features, see the GridRad Severe demo/tutorial."
   ]
  },
  {
   "cell_type": "code",
   "execution_count": null,
   "metadata": {},
   "outputs": [],
   "source": [
    "\"\"\"Synthetic data demo/test.\"\"\"\n",
    "\n",
    "%load_ext autoreload\n",
    "%autoreload 2\n",
    "from pathlib import Path\n",
    "import shutil\n",
    "import numpy as np\n",
    "import thuner.data as data\n",
    "import thuner.default as default\n",
    "import thuner.track.track as track\n",
    "import thuner.option as option\n",
    "import thuner.data.synthetic as synthetic"
   ]
  },
  {
   "cell_type": "code",
   "execution_count": null,
   "metadata": {},
   "outputs": [],
   "source": [
    "# Parent directory for saving outputs\n",
    "base_local = Path.home() / \"THUNER_output\"\n",
    "start = \"2005-11-13T00:00:00\"\n",
    "end = \"2005-11-13T02:00:00\"\n",
    "\n",
    "output_parent = base_local / \"runs/synthetic/geographic\"\n",
    "if output_parent.exists():\n",
    "    shutil.rmtree(output_parent)\n",
    "options_directory = output_parent / \"options\"\n",
    "options_directory.mkdir(parents=True, exist_ok=True)\n",
    "\n",
    "# Create a grid\n",
    "lat = np.arange(-14, -6 + 0.025, 0.025).tolist()\n",
    "lon = np.arange(128, 136 + 0.025, 0.025).tolist()\n",
    "grid_options = option.grid.GridOptions(name=\"geographic\", latitude=lat, longitude=lon)\n",
    "grid_options.to_yaml(options_directory / \"grid.yml\")\n",
    "\n",
    "# Initialize synthetic objects\n",
    "starting_objects = []\n",
    "for i in range(5):\n",
    "    obj = synthetic.create_object(\n",
    "        time=start,\n",
    "        center_latitude=np.mean(lat),\n",
    "        center_longitude=lon[(i+1)*len(lon) // 6],\n",
    "        direction=-np.pi / 4 + i * np.pi / 6,\n",
    "        speed=30-4*i,\n",
    "        horizontal_radius=5+4*i,\n",
    "    )\n",
    "    starting_objects.append(obj)\n",
    "# Create data options dictionary\n",
    "synthetic_options = data.synthetic.SyntheticOptions(starting_objects=starting_objects)\n",
    "data_options = option.data.DataOptions(datasets=[synthetic_options])\n",
    "data_options.to_yaml(options_directory / \"data.yml\")\n",
    "\n",
    "track_options = default.synthetic_track()\n",
    "track_options.to_yaml(options_directory / \"track.yml\")\n",
    "\n",
    "# Create the display_options dictionary\n",
    "visualize_options = default.synthetic_runtime(options_directory / \"visualize.yml\")\n",
    "visualize_options.to_yaml(options_directory / \"visualize.yml\")"
   ]
  },
  {
   "cell_type": "code",
   "execution_count": null,
   "metadata": {},
   "outputs": [],
   "source": [
    "times = np.arange(\n",
    "    np.datetime64(start),\n",
    "    np.datetime64(end) + np.timedelta64(10, \"m\"),\n",
    "    np.timedelta64(10, \"m\"),\n",
    ")\n",
    "args = [times, data_options, grid_options, track_options, visualize_options]\n",
    "track.track(*args, output_directory=output_parent)"
   ]
  },
  {
   "cell_type": "markdown",
   "metadata": {},
   "source": [
    "![THUNER applied to synthetic data.](https://raw.githubusercontent.com/THUNER-project/THUNER/refs/heads/main/gallery/synthetic.gif)"
   ]
  },
  {
   "cell_type": "code",
   "execution_count": null,
   "metadata": {},
   "outputs": [],
   "source": [
    "central_latitude = -10\n",
    "central_longitude = 132\n",
    "\n",
    "y = np.arange(-400e3, 400e3 + 2.5e3, 2.5e3).tolist()\n",
    "x = np.arange(-400e3, 400e3 + 2.5e3, 2.5e3).tolist()\n",
    "\n",
    "grid_options = option.grid.GridOptions(\n",
    "    name=\"cartesian\",\n",
    "    x=x,\n",
    "    y=y,\n",
    "    central_latitude=central_latitude,\n",
    "    central_longitude=central_longitude,\n",
    ")\n",
    "grid_options.to_yaml(options_directory / \"grid.yml\")"
   ]
  },
  {
   "cell_type": "code",
   "execution_count": null,
   "metadata": {},
   "outputs": [],
   "source": [
    "output_parent = base_local / \"runs/synthetic/cartesian\"\n",
    "if output_parent.exists():\n",
    "    shutil.rmtree(output_parent)\n",
    "    \n",
    "times = np.arange(\n",
    "    np.datetime64(start),\n",
    "    np.datetime64(end) + np.timedelta64(10, \"m\"),\n",
    "    +np.timedelta64(10, \"m\"),\n",
    ")\n",
    "\n",
    "args = [times, data_options, grid_options, track_options, visualize_options]\n",
    "track.track(*args, output_directory=output_parent)"
   ]
  }
 ],
 "metadata": {
  "kernelspec": {
   "display_name": "THUNER",
   "language": "python",
   "name": "python3"
  },
  "language_info": {
   "codemirror_mode": {
    "name": "ipython",
    "version": 3
   },
   "file_extension": ".py",
   "mimetype": "text/x-python",
   "name": "python",
   "nbconvert_exporter": "python",
   "pygments_lexer": "ipython3",
   "version": "3.10.16"
  }
 },
 "nbformat": 4,
 "nbformat_minor": 2
}

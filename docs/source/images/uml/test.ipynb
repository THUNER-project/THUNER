{
 "cells": [
  {
   "cell_type": "code",
   "execution_count": null,
   "metadata": {},
   "outputs": [],
   "source": [
    "import re\n",
    "\n",
    "filepath = \"./packages.puml\"\n",
    "with open(filepath, \"r\") as file:\n",
    "    lines = file.readlines()"
   ]
  },
  {
   "cell_type": "code",
   "execution_count": null,
   "metadata": {},
   "outputs": [],
   "source": [
    "def contains_name_arrow_name(text):\n",
    "    \"\"\"Check if the string contains the pattern <name> --> <name>.\"\"\"\n",
    "    pattern = r'([a-zA-Z0-9_.]+) --> \\1\\n'\n",
    "    return bool(re.search(pattern, text))"
   ]
  },
  {
   "cell_type": "code",
   "execution_count": null,
   "metadata": {},
   "outputs": [],
   "source": [
    "def replace_module_with_subpackage(text):\n",
    "    \"\"\"Replace strings of the form thuner.subpackage.module with thuner.subpackage.\"\"\"\n",
    "    pattern = r'(\\bthuner\\.[a-zA-Z0-9_]+)\\.[a-zA-Z0-9_]+\\b'\n",
    "    replacement = r'\\1'\n",
    "    return re.sub(pattern, replacement, text)"
   ]
  },
  {
   "cell_type": "code",
   "execution_count": null,
   "metadata": {},
   "outputs": [],
   "source": [
    "contains_name_arrow_name(\"thuner --> thuner\\n\")"
   ]
  },
  {
   "cell_type": "code",
   "execution_count": null,
   "metadata": {},
   "outputs": [],
   "source": [
    "excluded_names = [\"thuner.test\", \"thuner.log\", \"thuner.config\", \"thuner.utils\"]\n",
    "\n",
    "new_lines = []\n",
    "for line in lines:\n",
    "    new_line = replace_module_with_subpackage(line)\n",
    "    cond = new_line != \"}\\n\" and not contains_name_arrow_name(new_line)\n",
    "    cond = (new_line not in new_lines) and cond\n",
    "    cond = cond & all(name not in new_line for name in excluded_names)\n",
    "    if cond:\n",
    "        new_lines.append(new_line)\n",
    "        if new_line[-2:] == \"{\\n\":\n",
    "            new_lines.append(\"}\\n\")"
   ]
  },
  {
   "cell_type": "code",
   "execution_count": null,
   "metadata": {},
   "outputs": [],
   "source": [
    "test_string = 'thuner.attribute --> thuner.attribute\\n'\n",
    "contains_name_arrow_name(test_string)"
   ]
  },
  {
   "cell_type": "code",
   "execution_count": null,
   "metadata": {},
   "outputs": [],
   "source": [
    "# Write new_lines to file\n",
    "filepath = \"./edited_packages.puml\"\n",
    "with open(filepath, \"w\") as file:\n",
    "    file.writelines(new_lines)"
   ]
  },
  {
   "cell_type": "code",
   "execution_count": null,
   "metadata": {},
   "outputs": [],
   "source": []
  }
 ],
 "metadata": {
  "kernelspec": {
   "display_name": "THUNER",
   "language": "python",
   "name": "python3"
  },
  "language_info": {
   "codemirror_mode": {
    "name": "ipython",
    "version": 3
   },
   "file_extension": ".py",
   "mimetype": "text/x-python",
   "name": "python",
   "nbconvert_exporter": "python",
   "pygments_lexer": "ipython3",
   "version": "3.10.16"
  }
 },
 "nbformat": 4,
 "nbformat_minor": 2
}

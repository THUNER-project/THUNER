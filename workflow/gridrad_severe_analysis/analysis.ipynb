{
 "cells": [
  {
   "cell_type": "code",
   "execution_count": 22,
   "metadata": {},
   "outputs": [
    {
     "name": "stdout",
     "output_type": "stream",
     "text": [
      "The autoreload extension is already loaded. To reload it, use:\n",
      "  %reload_ext autoreload\n"
     ]
    }
   ],
   "source": [
    "%load_ext autoreload\n",
    "%autoreload 2\n",
    "import multiprocessing\n",
    "from pathlib import Path\n",
    "import glob\n",
    "import shutil\n",
    "import numpy as np\n",
    "import pandas as pd\n",
    "import yaml\n",
    "import thor.data as data\n",
    "import thor.attribute as attribute\n",
    "import thor.data.dispatch as dispatch\n",
    "import thor.grid as grid\n",
    "import thor.option as option\n",
    "import thor.track as track\n",
    "import thor.analyze as analyze\n",
    "import thor.parallel as parallel\n",
    "import thor.visualize as visualize\n",
    "import thor.log as log\n",
    "import thor.config as config\n",
    "\n",
    "notebook_name = \"gridrad_demo.ipynb\""
   ]
  },
  {
   "cell_type": "code",
   "execution_count": 25,
   "metadata": {},
   "outputs": [
    {
     "name": "stderr",
     "output_type": "stream",
     "text": [
      "2024-11-04 11:00:27,065 - thor.data.option - INFO - Assigning default era5 pressure levels.\n"
     ]
    },
    {
     "ename": "ValidationError",
     "evalue": "1 validation error for DataOptions\ndatasets\n  Field required [type=missing, input_value={'gridrad': {'name': 'gri...de_range': [-180, 180]}}, input_type=dict]\n    For further information visit https://errors.pydantic.dev/2.8/v/missing",
     "output_type": "error",
     "traceback": [
      "\u001b[0;31m---------------------------------------------------------------------------\u001b[0m",
      "\u001b[0;31mValidationError\u001b[0m                           Traceback (most recent call last)",
      "Cell \u001b[0;32mIn[25], line 14\u001b[0m\n\u001b[1;32m     12\u001b[0m options_filepath \u001b[38;5;241m=\u001b[39m Path(directory) \u001b[38;5;241m/\u001b[39m \u001b[38;5;124m\"\u001b[39m\u001b[38;5;124moptions/data.yml\u001b[39m\u001b[38;5;124m\"\u001b[39m\n\u001b[1;32m     13\u001b[0m \u001b[38;5;28;01mwith\u001b[39;00m \u001b[38;5;28mopen\u001b[39m(options_filepath, \u001b[38;5;124m\"\u001b[39m\u001b[38;5;124mr\u001b[39m\u001b[38;5;124m\"\u001b[39m) \u001b[38;5;28;01mas\u001b[39;00m f:\n\u001b[0;32m---> 14\u001b[0m     data_options \u001b[38;5;241m=\u001b[39m \u001b[43mdata\u001b[49m\u001b[38;5;241;43m.\u001b[39;49m\u001b[43moption\u001b[49m\u001b[38;5;241;43m.\u001b[39;49m\u001b[43mDataOptions\u001b[49m\u001b[43m(\u001b[49m\u001b[38;5;241;43m*\u001b[39;49m\u001b[38;5;241;43m*\u001b[39;49m\u001b[43myaml\u001b[49m\u001b[38;5;241;43m.\u001b[39;49m\u001b[43msafe_load\u001b[49m\u001b[43m(\u001b[49m\u001b[43mf\u001b[49m\u001b[43m)\u001b[49m\u001b[43m)\u001b[49m\n\u001b[1;32m     15\u001b[0m gridrad_options \u001b[38;5;241m=\u001b[39m data_options\u001b[38;5;241m.\u001b[39mdataset_by_name(\u001b[38;5;124m\"\u001b[39m\u001b[38;5;124mgridrad\u001b[39m\u001b[38;5;124m\"\u001b[39m)\n\u001b[1;32m     16\u001b[0m event_start \u001b[38;5;241m=\u001b[39m gridrad_options\u001b[38;5;241m.\u001b[39mevent_start\n",
      "File \u001b[0;32m~/miniconda3/envs/THOR/lib/python3.10/site-packages/pydantic/main.py:193\u001b[0m, in \u001b[0;36mBaseModel.__init__\u001b[0;34m(self, **data)\u001b[0m\n\u001b[1;32m    191\u001b[0m \u001b[38;5;66;03m# `__tracebackhide__` tells pytest and some other tools to omit this function from tracebacks\u001b[39;00m\n\u001b[1;32m    192\u001b[0m __tracebackhide__ \u001b[38;5;241m=\u001b[39m \u001b[38;5;28;01mTrue\u001b[39;00m\n\u001b[0;32m--> 193\u001b[0m \u001b[38;5;28;43mself\u001b[39;49m\u001b[38;5;241;43m.\u001b[39;49m\u001b[43m__pydantic_validator__\u001b[49m\u001b[38;5;241;43m.\u001b[39;49m\u001b[43mvalidate_python\u001b[49m\u001b[43m(\u001b[49m\u001b[43mdata\u001b[49m\u001b[43m,\u001b[49m\u001b[43m \u001b[49m\u001b[43mself_instance\u001b[49m\u001b[38;5;241;43m=\u001b[39;49m\u001b[38;5;28;43mself\u001b[39;49m\u001b[43m)\u001b[49m\n",
      "\u001b[0;31mValidationError\u001b[0m: 1 validation error for DataOptions\ndatasets\n  Field required [type=missing, input_value={'gridrad': {'name': 'gri...de_range': [-180, 180]}}, input_type=dict]\n    For further information visit https://errors.pydantic.dev/2.8/v/missing"
     ]
    }
   ],
   "source": [
    "# Aggregate data across runs\n",
    "\n",
    "base_local = config.get_outputs_directory()\n",
    "\n",
    "run_directories = sorted(glob.glob(str(base_local / \"runs/dev/gridrad_2010*[!.tar.gz]\")))\n",
    "\n",
    "core_dfs = []\n",
    "classification_dfs = []\n",
    "quality_dfs = []\n",
    "\n",
    "for directory in run_directories:        \n",
    "    options_filepath = Path(directory) / \"options/data.yml\"\n",
    "    with open(options_filepath, \"r\") as f:\n",
    "        data_options = data.option.DataOptions(**yaml.safe_load(f))\n",
    "    gridrad_options = data_options.dataset_by_name(\"gridrad\")\n",
    "    event_start = gridrad_options.event_start\n",
    "    core_filepath = Path(directory) / \"attributes/mcs/core.csv\"\n",
    "    core = attribute.utils.read_attribute_csv(core_filepath)\n",
    "    core[\"event_start\"] = event_start\n",
    "    core_dfs.append(core)\n",
    "\n"
   ]
  },
  {
   "cell_type": "code",
   "execution_count": null,
   "metadata": {},
   "outputs": [],
   "source": []
  }
 ],
 "metadata": {
  "kernelspec": {
   "display_name": "THOR",
   "language": "python",
   "name": "python3"
  },
  "language_info": {
   "codemirror_mode": {
    "name": "ipython",
    "version": 3
   },
   "file_extension": ".py",
   "mimetype": "text/x-python",
   "name": "python",
   "nbconvert_exporter": "python",
   "pygments_lexer": "ipython3",
   "version": "3.10.14"
  }
 },
 "nbformat": 4,
 "nbformat_minor": 2
}
